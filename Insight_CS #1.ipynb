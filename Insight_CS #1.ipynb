{
 "cells": [
  {
   "cell_type": "code",
   "execution_count": 31,
   "metadata": {},
   "outputs": [],
   "source": [
    "from math import floor\n",
    "import numpy as np"
   ]
  },
  {
   "cell_type": "markdown",
   "metadata": {},
   "source": [
    "### Question 1: Binary Search\n",
    "Given a sorted array and value in the array, find the corresponding index\n",
    "For example for input A = [2,6,8,12] and V = 8, the output should be 2 = the index where 8 appears. "
   ]
  },
  {
   "cell_type": "code",
   "execution_count": 58,
   "metadata": {},
   "outputs": [],
   "source": [
    "A = np.array([2,6,8,12])\n",
    "V = 8"
   ]
  },
  {
   "cell_type": "code",
   "execution_count": 59,
   "metadata": {},
   "outputs": [],
   "source": [
    "def index_finder(V):\n",
    "    for i in np.arange(len(A)):\n",
    "        if V not in A:\n",
    "            print(\"value is not in array\")\n",
    "            break\n",
    "        elif A[i] == V:\n",
    "            return i"
   ]
  },
  {
   "cell_type": "code",
   "execution_count": 60,
   "metadata": {},
   "outputs": [
    {
     "data": {
      "text/plain": [
       "2"
      ]
     },
     "execution_count": 60,
     "metadata": {},
     "output_type": "execute_result"
    }
   ],
   "source": [
    "index_finder(8)"
   ]
  },
  {
   "cell_type": "markdown",
   "metadata": {},
   "source": [
    "### Question 2: Majority Element\n",
    "Given an array of size n, find the majority element. The majority element is the element that appears more than  floor(n/2) times\n",
    "You may assume that the array is non-empty and the majority element always exist in the array.\n",
    "For example, find_majority([1,3,3,4,5,6,1,3,4,7,7,7,3,3,3,3,3,3,3]) = 3"
   ]
  },
  {
   "cell_type": "code",
   "execution_count": 5,
   "metadata": {},
   "outputs": [],
   "source": [
    "arr = [1,3,3,4,5,6,1,3,4,7,7,7,3,3,3,3,3,3,3]"
   ]
  },
  {
   "cell_type": "code",
   "execution_count": 26,
   "metadata": {},
   "outputs": [],
   "source": [
    "def find_majority(arr):\n",
    "    n = len(arr)\n",
    "    i = 0\n",
    "    els = list(set(arr))\n",
    "    while i < len(set(arr)):\n",
    "        arr.count(els[i])\n",
    "        if arr.count(els[i]) > floor(n/2):\n",
    "            return els[i]\n",
    "        i = i+1"
   ]
  },
  {
   "cell_type": "code",
   "execution_count": 27,
   "metadata": {},
   "outputs": [
    {
     "data": {
      "text/plain": [
       "3"
      ]
     },
     "execution_count": 27,
     "metadata": {},
     "output_type": "execute_result"
    }
   ],
   "source": [
    "find_majority(arr)"
   ]
  },
  {
   "cell_type": "code",
   "execution_count": null,
   "metadata": {},
   "outputs": [],
   "source": []
  },
  {
   "cell_type": "code",
   "execution_count": null,
   "metadata": {},
   "outputs": [],
   "source": []
  },
  {
   "cell_type": "code",
   "execution_count": null,
   "metadata": {},
   "outputs": [],
   "source": []
  }
 ],
 "metadata": {
  "kernelspec": {
   "display_name": "Python 3",
   "language": "python",
   "name": "python3"
  },
  "language_info": {
   "codemirror_mode": {
    "name": "ipython",
    "version": 3
   },
   "file_extension": ".py",
   "mimetype": "text/x-python",
   "name": "python",
   "nbconvert_exporter": "python",
   "pygments_lexer": "ipython3",
   "version": "3.7.4"
  }
 },
 "nbformat": 4,
 "nbformat_minor": 2
}
