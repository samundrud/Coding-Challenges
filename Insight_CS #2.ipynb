{
 "cells": [
  {
   "cell_type": "markdown",
   "metadata": {},
   "source": [
    "# Question 1: Write the partition function for quicksort\n",
    "Given an array A and an index i, let p = A[i] called the pivot point.  Write a function that implements the partition step of Quicksort, that is:  Reorganize the array so that all elements to the left of p are less than p and all elements to the right are greater than p\n",
    "\n",
    "For example if A = [7,5,3,8,1] and i = 1, p = A[1] = 5  The output should be A  = [3, 1, 5, 7, 8]\n",
    "\n",
    "What is the space complexity of your solution? Can you do this in-place?\n"
   ]
  },
  {
   "cell_type": "code",
   "execution_count": 115,
   "metadata": {},
   "outputs": [],
   "source": [
    "A = [7,5,3,8,1]\n",
    "i = 1"
   ]
  },
  {
   "cell_type": "code",
   "execution_count": 116,
   "metadata": {},
   "outputs": [],
   "source": [
    "def partition(A, i):\n",
    "    p = A[i]\n",
    "    left = []\n",
    "    middle = []\n",
    "    right = []\n",
    "    for num in A:\n",
    "        if num < p:\n",
    "            left.append(num)\n",
    "        elif num > p:\n",
    "            right.append(num)\n",
    "        else:\n",
    "            middle.append(num)\n",
    "    return left + middle + right"
   ]
  },
  {
   "cell_type": "code",
   "execution_count": 117,
   "metadata": {},
   "outputs": [
    {
     "data": {
      "text/plain": [
       "[3, 1, 5, 7, 8]"
      ]
     },
     "execution_count": 117,
     "metadata": {},
     "output_type": "execute_result"
    }
   ],
   "source": [
    "partition(A, i)"
   ]
  },
  {
   "cell_type": "code",
   "execution_count": null,
   "metadata": {},
   "outputs": [],
   "source": []
  },
  {
   "cell_type": "markdown",
   "metadata": {},
   "source": [
    "# Question 2: Merge two sorted arrays\n",
    "Given two sorted arrays A and B, merge the two into a sorted array. This is the Merge step of Mergesort.  \n",
    "\n",
    "For example, for input \n",
    "A = [3,5,7] and B = [1, 8]\n",
    "The output should be\n",
    "C = [1,3,5,7,8] "
   ]
  },
  {
   "cell_type": "code",
   "execution_count": 78,
   "metadata": {},
   "outputs": [],
   "source": [
    "A = [3,5,7]\n",
    "B = [1,8]"
   ]
  },
  {
   "cell_type": "code",
   "execution_count": 80,
   "metadata": {},
   "outputs": [],
   "source": [
    "def merge_arrays(A, B):\n",
    "    C = []\n",
    "    # if we have elements in both lists, append smaller first element to C and pop it off the list\n",
    "    while (len(A)) != 0 and (len(B)) != 0:\n",
    "        if A[0] < B[0]:\n",
    "            C.append(A.pop(0))\n",
    "        elif A[0] > B[0]:\n",
    "            C.append(B.pop(0))\n",
    "    # now take care of whatever is remaining in the list that is not empty\n",
    "    C.extend(A)\n",
    "    C.extend(B)\n",
    "    return C"
   ]
  },
  {
   "cell_type": "code",
   "execution_count": 81,
   "metadata": {},
   "outputs": [
    {
     "data": {
      "text/plain": [
       "[1, 3, 5, 7, 8]"
      ]
     },
     "execution_count": 81,
     "metadata": {},
     "output_type": "execute_result"
    }
   ],
   "source": [
    "merge_arrays(A, B)"
   ]
  },
  {
   "cell_type": "code",
   "execution_count": null,
   "metadata": {},
   "outputs": [],
   "source": []
  },
  {
   "cell_type": "code",
   "execution_count": null,
   "metadata": {},
   "outputs": [],
   "source": []
  },
  {
   "cell_type": "code",
   "execution_count": null,
   "metadata": {},
   "outputs": [],
   "source": []
  }
 ],
 "metadata": {
  "kernelspec": {
   "display_name": "Python 3",
   "language": "python",
   "name": "python3"
  },
  "language_info": {
   "codemirror_mode": {
    "name": "ipython",
    "version": 3
   },
   "file_extension": ".py",
   "mimetype": "text/x-python",
   "name": "python",
   "nbconvert_exporter": "python",
   "pygments_lexer": "ipython3",
   "version": "3.7.4"
  }
 },
 "nbformat": 4,
 "nbformat_minor": 2
}
